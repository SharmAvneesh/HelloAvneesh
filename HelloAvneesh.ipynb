{
 "cells": [
  {
   "cell_type": "code",
   "execution_count": 1,
   "id": "40b5efc0-e1a1-4f1c-96d6-2d2c705d162c",
   "metadata": {},
   "outputs": [
    {
     "name": "stdout",
     "output_type": "stream",
     "text": [
      "Hello Avneesh\n"
     ]
    }
   ],
   "source": [
    "print(\"Hello Avneesh\")"
   ]
  },
  {
   "cell_type": "code",
   "execution_count": 2,
   "id": "f1de9f8b-b21e-4c2f-af16-149bad56c72a",
   "metadata": {},
   "outputs": [
    {
     "data": {
      "text/plain": [
       "2"
      ]
     },
     "execution_count": 2,
     "metadata": {},
     "output_type": "execute_result"
    }
   ],
   "source": [
    "1+1"
   ]
  },
  {
   "cell_type": "code",
   "execution_count": null,
   "id": "ed207c3b-7cce-4dc6-b73d-edd21e025f5e",
   "metadata": {},
   "outputs": [],
   "source": []
  }
 ],
 "metadata": {
  "kernelspec": {
   "display_name": "Python 3 (ipykernel)",
   "language": "python",
   "name": "python3"
  },
  "language_info": {
   "codemirror_mode": {
    "name": "ipython",
    "version": 3
   },
   "file_extension": ".py",
   "mimetype": "text/x-python",
   "name": "python",
   "nbconvert_exporter": "python",
   "pygments_lexer": "ipython3",
   "version": "3.10.6"
  }
 },
 "nbformat": 4,
 "nbformat_minor": 5
}
